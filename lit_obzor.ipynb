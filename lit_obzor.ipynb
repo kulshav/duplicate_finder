{
 "cells": [
  {
   "cell_type": "code",
   "execution_count": 9,
   "metadata": {},
   "outputs": [
    {
     "name": "stdout",
     "output_type": "stream",
     "text": [
      "0.2857142857142857\n"
     ]
    }
   ],
   "source": [
    "# Определяем два текста\n",
    "text1 = \"I love programming in Python\"\n",
    "text2 = \"Python programming is fun\"\n",
    "\n",
    "# Разбиваем тексты на множества слов\n",
    "words1 = set(text1.lower().split())\n",
    "words2 = set(text2.lower().split())\n",
    "\n",
    "# Находим количество общих слов между множествами\n",
    "shared_words = words1.intersection(words2)\n",
    "\n",
    "# Находим общее количество слов в обоих множествах\n",
    "total_words = words1.union(words2)\n",
    "\n",
    "# Вычисляем коэффициент Жаккара\n",
    "jaccard_similarity = len(shared_words) / len(total_words)\n",
    "print(jaccard_similarity)\n"
   ]
  },
  {
   "cell_type": "code",
   "execution_count": null,
   "metadata": {},
   "outputs": [],
   "source": [
    "def jaccard_similarity(a: set, b: set) -> float:\n",
    "    return len(a.intersection(b)) / len(a.union(b))\n",
    "\n",
    "main_text = \"Я люблю программировать на Python\"\n",
    "\n",
    "# текст с изменным порядком слов\n",
    "swapped_text = \"Люблю программировать я на Python\"\n",
    "# текст похожий по смыслу\n",
    "similar_text = \"Программирование на Python мне нравится\"\n",
    "# отличающийся текст, полностью\n",
    "different_text = \"Сегодня солнечная погода и я гуляю в парке\"\n",
    "\n",
    "# Преобразуем тексты в множества слов\n",
    "main_words = set(main_text.lower().split())\n",
    "swapped_words = set(swapped_text.lower().split())\n",
    "similar_words = set(similar_text.lower().split())\n",
    "different_words = set(different_text.lower().split())\n",
    "\n",
    "# Вычисляем коэффициент Жаккара\n",
    "similarity_swapped = jaccard_similarity(main_words, swapped_words)\n",
    "similarity_similar = jaccard_similarity(main_words, similar_words)\n",
    "similarity_different = jaccard_similarity(main_words, different_words)\n",
    "\n",
    "print(\"\\nКоэффициент Жаккара с текстом с измененным порядком слов:\", similarity_swapped)\n",
    "print(\"Коэффициент Жаккара с похожим по смыслу текстом:\", similarity_similar)\n",
    "print(\"Коэффициент Жаккара с полностью отличающимся текстом:\", similarity_different)\n"
   ]
  },
  {
   "cell_type": "code",
   "execution_count": 14,
   "metadata": {},
   "outputs": [
    {
     "name": "stdout",
     "output_type": "stream",
     "text": [
      "\n",
      "Коэффициент Жаккара с текстом с измененным порядком слов: 0.37142857142857144\n",
      "Коэффициент Жаккара с похожим по смыслу текстом: 0.08\n",
      "Коэффициент Жаккара с полностью отличающимся текстом: 0.0\n"
     ]
    }
   ],
   "source": [
    "def text_to_ngrams(text: str, N: int = 10) -> list[str]:\n",
    "    return [text[i:i+N] for i in range(len(text)-N+1)]\n",
    "\n",
    "main_words = set(text_to_ngrams(main_text))\n",
    "swapped_words = set(text_to_ngrams(swapped_text))\n",
    "similar_words = set(text_to_ngrams(similar_text))\n",
    "different_words = set(text_to_ngrams(different_text))\n",
    "\n",
    "similarity_swapped = jaccard_similarity(main_words, swapped_words)\n",
    "similarity_similar = jaccard_similarity(main_words, similar_words)\n",
    "similarity_different = jaccard_similarity(main_words, different_words)\n",
    "\n",
    "print(\"\\nКоэффициент Жаккара с текстом с измененным порядком слов:\", similarity_swapped)\n",
    "print(\"Коэффициент Жаккара с похожим по смыслу текстом:\", similarity_similar)\n",
    "print(\"Коэффициент Жаккара с полностью отличающимся текстом:\", similarity_different)\n"
   ]
  },
  {
   "cell_type": "code",
   "execution_count": 3,
   "metadata": {},
   "outputs": [],
   "source": [
    "a = set(\"Я люблю программировать на Python\".split())\n",
    "b = set(\"Программирование на Python мне нравится\".split())"
   ]
  },
  {
   "cell_type": "code",
   "execution_count": 5,
   "metadata": {},
   "outputs": [
    {
     "data": {
      "text/plain": [
       "{'Python',\n",
       " 'Программирование',\n",
       " 'Я',\n",
       " 'люблю',\n",
       " 'мне',\n",
       " 'на',\n",
       " 'нравится',\n",
       " 'программировать'}"
      ]
     },
     "execution_count": 5,
     "metadata": {},
     "output_type": "execute_result"
    }
   ],
   "source": [
    "res = a.union(b)\n",
    "res"
   ]
  }
 ],
 "metadata": {
  "kernelspec": {
   "display_name": "Python 3",
   "language": "python",
   "name": "python3"
  },
  "language_info": {
   "codemirror_mode": {
    "name": "ipython",
    "version": 3
   },
   "file_extension": ".py",
   "mimetype": "text/x-python",
   "name": "python",
   "nbconvert_exporter": "python",
   "pygments_lexer": "ipython3",
   "version": "3.12.4"
  }
 },
 "nbformat": 4,
 "nbformat_minor": 2
}
