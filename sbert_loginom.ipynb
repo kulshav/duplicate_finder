{
 "cells": [
  {
   "cell_type": "code",
   "execution_count": 18,
   "metadata": {},
   "outputs": [],
   "source": [
    "import pandas as pd\n",
    "import numpy as np\n",
    "\n",
    "from sklearn.metrics.pairwise import cosine_similarity\n",
    "from sentence_transformers import SentenceTransformer\n",
    "\n",
    "from database.models import ItemLoginom\n",
    "from services.utils import (\n",
    "    get_csv_data,\n",
    "    populate_database,\n",
    "    populate_bulk_embeddings,\n",
    "    get_most_similar,\n",
    ")"
   ]
  },
  {
   "cell_type": "code",
   "execution_count": 2,
   "metadata": {},
   "outputs": [],
   "source": [
    "dataset = get_csv_data(data_path=\"data/Products.csv\", column_id=1)"
   ]
  },
  {
   "cell_type": "code",
   "execution_count": 4,
   "metadata": {},
   "outputs": [
    {
     "name": "stderr",
     "output_type": "stream",
     "text": [
      "/home/kulshav/Workdir/duplicate_finder/.conda/lib/python3.11/site-packages/huggingface_hub/file_download.py:1132: FutureWarning: `resume_download` is deprecated and will be removed in version 1.0.0. Downloads always resume when possible. If you want to force a new download, use `force_download=True`.\n",
      "  warnings.warn(\n"
     ]
    }
   ],
   "source": [
    "nlp_model = SentenceTransformer(\n",
    "    \"sentence-transformers/paraphrase-multilingual-MiniLM-L12-v2\"\n",
    ")"
   ]
  },
  {
   "cell_type": "code",
   "execution_count": 17,
   "metadata": {},
   "outputs": [
    {
     "name": "stdout",
     "output_type": "stream",
     "text": [
      "[0.40470114]\n"
     ]
    }
   ],
   "source": [
    "promt_1 = nlp_model.encode(\"Кисть для рисования из шерсти белки\").reshape(1, -1)\n",
    "promt_2 = nlp_model.encode(\"Кисть для рисования из шерсти пони\").reshape(1, -1)\n",
    "\n",
    "print(cosine_similarity(promt_1, promt_2)[0])"
   ]
  },
  {
   "cell_type": "code",
   "execution_count": 19,
   "metadata": {},
   "outputs": [],
   "source": [
    "populate_bulk_embeddings(\n",
    "    nlp_model=nlp_model,\n",
    "    dataset=dataset,\n",
    "    table_model=ItemLoginom\n",
    ")"
   ]
  },
  {
   "cell_type": "code",
   "execution_count": 35,
   "metadata": {},
   "outputs": [],
   "source": [
    "promt = \"Календарь Густав Климт 2010\""
   ]
  },
  {
   "cell_type": "code",
   "execution_count": 36,
   "metadata": {},
   "outputs": [],
   "source": [
    "result = get_most_similar(\n",
    "    nlp_model=nlp_model,\n",
    "    table_model=ItemLoginom,\n",
    "    promt=promt,\n",
    "    limit=30,\n",
    ")"
   ]
  },
  {
   "cell_type": "code",
   "execution_count": 37,
   "metadata": {},
   "outputs": [
    {
     "name": "stdout",
     "output_type": "stream",
     "text": [
      "('Календарь Густав Климт 2010', 1.0)\n",
      "('Календарь Густав Климт 2008', 0.9745947969570719)\n",
      "('Календарь Густав Климт 2009', 0.9730202165571763)\n",
      "('Календарь Густав Климт  2010.', 0.9659304001100614)\n",
      "('Календарь Марк Шагал 2010', 0.9137431751060552)\n",
      "('Календарь Огюст Ренуар 2010', 0.9102062026194078)\n",
      "('Календарь Мосты2008', 0.9071378413495426)\n",
      "('Календарь Огюст Ренуар 2008', 0.8965566646438234)\n",
      "('Календарь Импрессионисты 2010', 0.8935338986902451)\n",
      "('Календарь Маски 2009', 0.8922641291708987)\n",
      "('Календарь Парусники 2008', 0.891129089724534)\n",
      "('Календарь Клод Моне 2009', 0.8897514069094343)\n",
      "('Календарь Анри Матисс 2008', 0.88478712526259)\n",
      "('Календарь Клод Моне 2008', 0.8825599818738143)\n",
      "('Календарь Василий Кандинский 2009', 0.8805667133906874)\n",
      "('Календарь Марк Шагал 2008', 0.876655023855386)\n",
      "('Календарь Импрессионисты 2008', 0.8745389629181329)\n",
      "('Календарь Панорама 2010', 0.871533053290555)\n",
      "('Календарь Винсент Ван Гог 2009', 0.8686677342692762)\n",
      "('Календарь Старые мастера2008', 0.8570502499678129)\n",
      "('Календарь Панорама2008', 0.8347308963923658)\n",
      "('Календарь Винсент Ван Гог', 0.8268366010875061)\n",
      "('Календарь Цветы Андрияка 2010', 0.808562373837384)\n",
      "('Календарь Шедевры импрессионизма 2010', 0.8016210435098805)\n",
      "('Календарь Иван Шишкин 2008', 0.8004061725924677)\n",
      "('Календарь Сальвадор Дали 2008', 0.7918634261173578)\n",
      "('Календарь Жизнь в цветах 2008', 0.7847032399168439)\n",
      "('Календарь Искусство Востока 2009', 0.780657427839983)\n",
      "('Календарь Замки Европы 2008', 0.7798532724649206)\n",
      "('Календарь Сальвадор Дали 2009', 0.778170835343555)\n"
     ]
    }
   ],
   "source": [
    "for res in result:\n",
    "    print(res)"
   ]
  }
 ],
 "metadata": {
  "kernelspec": {
   "display_name": "Python 3",
   "language": "python",
   "name": "python3"
  },
  "language_info": {
   "codemirror_mode": {
    "name": "ipython",
    "version": 3
   },
   "file_extension": ".py",
   "mimetype": "text/x-python",
   "name": "python",
   "nbconvert_exporter": "python",
   "pygments_lexer": "ipython3",
   "version": "3.11.9"
  }
 },
 "nbformat": 4,
 "nbformat_minor": 2
}
