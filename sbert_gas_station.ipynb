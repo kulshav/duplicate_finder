{
 "cells": [
  {
   "cell_type": "code",
   "execution_count": 7,
   "metadata": {},
   "outputs": [],
   "source": [
    "import pandas as pd\n",
    "import numpy as np\n",
    "\n",
    "from sklearn.metrics.pairwise import cosine_similarity\n",
    "from sentence_transformers import SentenceTransformer\n",
    "\n",
    "from database.models import Item, ItemNoEng\n",
    "from services.utils import get_csv_data, populate_database, populate_bulk_embeddings, get_most_similar"
   ]
  },
  {
   "cell_type": "code",
   "execution_count": 8,
   "metadata": {},
   "outputs": [],
   "source": [
    "dataset = get_csv_data(data_path=\"data/data.csv\", column_id=1)"
   ]
  },
  {
   "cell_type": "code",
   "execution_count": 9,
   "metadata": {},
   "outputs": [
    {
     "name": "stderr",
     "output_type": "stream",
     "text": [
      "/home/kulshav/Workdir/duplicate_finder/.conda/lib/python3.11/site-packages/huggingface_hub/file_download.py:1132: FutureWarning: `resume_download` is deprecated and will be removed in version 1.0.0. Downloads always resume when possible. If you want to force a new download, use `force_download=True`.\n",
      "  warnings.warn(\n"
     ]
    }
   ],
   "source": [
    "nlp_model = SentenceTransformer(\n",
    "    \"sentence-transformers/paraphrase-multilingual-MiniLM-L12-v2\"\n",
    ")"
   ]
  },
  {
   "cell_type": "code",
   "execution_count": 15,
   "metadata": {},
   "outputs": [
    {
     "name": "stdout",
     "output_type": "stream",
     "text": [
      "[0.9832562]\n"
     ]
    }
   ],
   "source": [
    "promt_1 = nlp_model.encode(\"стол круглый\").reshape(1, -1)\n",
    "promt_2 = nlp_model.encode(\"круглый стол\").reshape(1, -1)\n",
    "\n",
    "print(cosine_similarity(promt_1, promt_2)[0])"
   ]
  },
  {
   "cell_type": "code",
   "execution_count": 6,
   "metadata": {},
   "outputs": [],
   "source": [
    "populate_bulk_embeddings(\n",
    "    nlp_model=nlp_model,\n",
    "    dataset=dataset,\n",
    "    table_model=ItemNoEng\n",
    ")"
   ]
  },
  {
   "cell_type": "code",
   "execution_count": 40,
   "metadata": {},
   "outputs": [],
   "source": [
    "promt = \"Сигареты Parliament\".lower()"
   ]
  },
  {
   "cell_type": "code",
   "execution_count": 41,
   "metadata": {},
   "outputs": [],
   "source": [
    "result = get_most_similar(\n",
    "    nlp_model=nlp_model,\n",
    "    table_model=Item,\n",
    "    promt=promt,\n",
    "    limit=30,\n",
    ")"
   ]
  },
  {
   "cell_type": "code",
   "execution_count": 44,
   "metadata": {},
   "outputs": [
    {
     "name": "stdout",
     "output_type": "stream",
     "text": [
      "('Сигареты Parliament Voyage ', 0.9317057483683799)\n",
      "('Сигареты Sovereign', 0.8089137315919839)\n",
      "('Сигареты Parliament Agua Blue  [БЛОК]', 0.8043578735283836)\n",
      "('Сигареты Senator', 0.789088506074265)\n",
      "('Сигареты Мономах', 0.7577367531467832)\n"
     ]
    }
   ],
   "source": [
    "# for res in result:\n",
    "#     print(res)\n",
    "    \n",
    "print(result[0])\n",
    "print(result[5])\n",
    "print(result[6])\n",
    "print(result[11])\n",
    "print(result[16])"
   ]
  }
 ],
 "metadata": {
  "kernelspec": {
   "display_name": "Python 3",
   "language": "python",
   "name": "python3"
  },
  "language_info": {
   "codemirror_mode": {
    "name": "ipython",
    "version": 3
   },
   "file_extension": ".py",
   "mimetype": "text/x-python",
   "name": "python",
   "nbconvert_exporter": "python",
   "pygments_lexer": "ipython3",
   "version": "3.1.-1"
  }
 },
 "nbformat": 4,
 "nbformat_minor": 2
}
